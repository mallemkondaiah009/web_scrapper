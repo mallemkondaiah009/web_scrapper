{
 "cells": [
  {
   "cell_type": "code",
   "execution_count": 13,
   "metadata": {},
   "outputs": [],
   "source": [
    "import requests\n",
    "from bs4 import BeautifulSoup\n",
    "import pandas as pd"
   ]
  },
  {
   "cell_type": "code",
   "execution_count": 20,
   "metadata": {},
   "outputs": [],
   "source": [
    "url=\"https://www.meesho.com/search?q=t%20shirts&searchType=manual&searchIdentifier=text_search\""
   ]
  },
  {
   "cell_type": "code",
   "execution_count": 21,
   "metadata": {},
   "outputs": [],
   "source": [
    "req=requests.get(url)"
   ]
  },
  {
   "cell_type": "code",
   "execution_count": 22,
   "metadata": {},
   "outputs": [],
   "source": [
    "content=BeautifulSoup(req.content,\"html.parser\")"
   ]
  },
  {
   "cell_type": "code",
   "execution_count": 23,
   "metadata": {},
   "outputs": [
    {
     "data": {
      "text/plain": [
       "<!DOCTYPE html>\n",
       "<html lang=\"en-US\"><head><title>Just a moment...</title><meta content=\"text/html; charset=utf-8\" http-equiv=\"Content-Type\"/><meta content=\"IE=Edge\" http-equiv=\"X-UA-Compatible\"/><meta content=\"noindex,nofollow\" name=\"robots\"/><meta content=\"width=device-width,initial-scale=1\" name=\"viewport\"/><style>*{box-sizing:border-box;margin:0;padding:0}html{line-height:1.15;-webkit-text-size-adjust:100%;color:#313131}button,html{font-family:system-ui,-apple-system,BlinkMacSystemFont,Segoe UI,Roboto,Helvetica Neue,Arial,Noto Sans,sans-serif,Apple Color Emoji,Segoe UI Emoji,Segoe UI Symbol,Noto Color Emoji}@media (prefers-color-scheme:dark){body{background-color:#222;color:#d9d9d9}body a{color:#fff}body a:hover{color:#ee730a;text-decoration:underline}body .lds-ring div{border-color:#999 transparent transparent}body .font-red{color:#b20f03}body .big-button,body .pow-button{background-color:#4693ff;color:#1d1d1d}body #challenge-success-text{background-image:url(data:image/svg+xml;base64,PHN2ZyB4bWxucz0iaHR0cDovL3d3dy53My5vcmcvMjAwMC9zdmciIHdpZHRoPSIzMiIgaGVpZ2h0PSIzMiIgZmlsbD0ibm9uZSIgdmlld0JveD0iMCAwIDI2IDI2Ij48cGF0aCBmaWxsPSIjZDlkOWQ5IiBkPSJNMTMgMGExMyAxMyAwIDEgMCAwIDI2IDEzIDEzIDAgMCAwIDAtMjZtMCAyNGExMSAxMSAwIDEgMSAwLTIyIDExIDExIDAgMCAxIDAgMjIiLz48cGF0aCBmaWxsPSIjZDlkOWQ5IiBkPSJtMTAuOTU1IDE2LjA1NS0zLjk1LTQuMTI1LTEuNDQ1IDEuMzg1IDUuMzcgNS42MSA5LjQ5NS05LjYtMS40Mi0xLjQwNXoiLz48L3N2Zz4=)}body #challenge-error-text{background-image:url(data:image/svg+xml;base64,PHN2ZyB4bWxucz0iaHR0cDovL3d3dy53My5vcmcvMjAwMC9zdmciIHdpZHRoPSIzMiIgaGVpZ2h0PSIzMiIgZmlsbD0ibm9uZSI+PHBhdGggZmlsbD0iI0IyMEYwMyIgZD0iTTE2IDNhMTMgMTMgMCAxIDAgMTMgMTNBMTMuMDE1IDEzLjAxNSAwIDAgMCAxNiAzbTAgMjRhMTEgMTEgMCAxIDEgMTEtMTEgMTEuMDEgMTEuMDEgMCAwIDEtMTEgMTEiLz48cGF0aCBmaWxsPSIjQjIwRjAzIiBkPSJNMTcuMDM4IDE4LjYxNUgxNC44N0wxNC41NjMgOS41aDIuNzgzem0tMS4wODQgMS40MjdxLjY2IDAgMS4wNTcuMzg4LjQwNy4zODkuNDA3Ljk5NCAwIC41OTYtLjQwNy45ODQtLjM5Ny4zOS0xLjA1Ny4zODktLjY1IDAtMS4wNTYtLjM4OS0uMzk4LS4zODktLjM5OC0uOTg0IDAtLjU5Ny4zOTgtLjk4NS40MDYtLjM5NyAxLjA1Ni0uMzk3Ii8+PC9zdmc+)}}body{display:flex;flex-direction:column;min-height:100vh}body.no-js .loading-spinner{visibility:hidden}body.no-js .challenge-running{display:none}body.dark{background-color:#222;color:#d9d9d9}body.dark a{color:#fff}body.dark a:hover{color:#ee730a;text-decoration:underline}body.dark .lds-ring div{border-color:#999 transparent transparent}body.dark .font-red{color:#b20f03}body.dark .big-button,body.dark .pow-button{background-color:#4693ff;color:#1d1d1d}body.dark #challenge-success-text{background-image:url(data:image/svg+xml;base64,PHN2ZyB4bWxucz0iaHR0cDovL3d3dy53My5vcmcvMjAwMC9zdmciIHdpZHRoPSIzMiIgaGVpZ2h0PSIzMiIgZmlsbD0ibm9uZSIgdmlld0JveD0iMCAwIDI2IDI2Ij48cGF0aCBmaWxsPSIjZDlkOWQ5IiBkPSJNMTMgMGExMyAxMyAwIDEgMCAwIDI2IDEzIDEzIDAgMCAwIDAtMjZtMCAyNGExMSAxMSAwIDEgMSAwLTIyIDExIDExIDAgMCAxIDAgMjIiLz48cGF0aCBmaWxsPSIjZDlkOWQ5IiBkPSJtMTAuOTU1IDE2LjA1NS0zLjk1LTQuMTI1LTEuNDQ1IDEuMzg1IDUuMzcgNS42MSA5LjQ5NS05LjYtMS40Mi0xLjQwNXoiLz48L3N2Zz4=)}body.dark #challenge-error-text{background-image:url(data:image/svg+xml;base64,PHN2ZyB4bWxucz0iaHR0cDovL3d3dy53My5vcmcvMjAwMC9zdmciIHdpZHRoPSIzMiIgaGVpZ2h0PSIzMiIgZmlsbD0ibm9uZSI+PHBhdGggZmlsbD0iI0IyMEYwMyIgZD0iTTE2IDNhMTMgMTMgMCAxIDAgMTMgMTNBMTMuMDE1IDEzLjAxNSAwIDAgMCAxNiAzbTAgMjRhMTEgMTEgMCAxIDEgMTEtMTEgMTEuMDEgMTEuMDEgMCAwIDEtMTEgMTEiLz48cGF0aCBmaWxsPSIjQjIwRjAzIiBkPSJNMTcuMDM4IDE4LjYxNUgxNC44N0wxNC41NjMgOS41aDIuNzgzem0tMS4wODQgMS40MjdxLjY2IDAgMS4wNTcuMzg4LjQwNy4zODkuNDA3Ljk5NCAwIC41OTYtLjQwNy45ODQtLjM5Ny4zOS0xLjA1Ny4zODktLjY1IDAtMS4wNTYtLjM4OS0uMzk4LS4zODktLjM5OC0uOTg0IDAtLjU5Ny4zOTgtLjk4NS40MDYtLjM5NyAxLjA1Ni0uMzk3Ii8+PC9zdmc+)}body.light{background-color:transparent;color:#313131}body.light a{color:#0051c3}body.light a:hover{color:#ee730a;text-decoration:underline}body.light .lds-ring div{border-color:#595959 transparent transparent}body.light .font-red{color:#fc574a}body.light .big-button,body.light .pow-button{background-color:#003681;border-color:#003681;color:#fff}body.light #challenge-success-text{background-image:url(data:image/svg+xml;base64,PHN2ZyB4bWxucz0iaHR0cDovL3d3dy53My5vcmcvMjAwMC9zdmciIHdpZHRoPSIzMiIgaGVpZ2h0PSIzMiIgZmlsbD0ibm9uZSIgdmlld0JveD0iMCAwIDI2IDI2Ij48cGF0aCBmaWxsPSIjMzEzMTMxIiBkPSJNMTMgMGExMyAxMyAwIDEgMCAwIDI2IDEzIDEzIDAgMCAwIDAtMjZtMCAyNGExMSAxMSAwIDEgMSAwLTIyIDExIDExIDAgMCAxIDAgMjIiLz48cGF0aCBmaWxsPSIjMzEzMTMxIiBkPSJtMTAuOTU1IDE2LjA1NS0zLjk1LTQuMTI1LTEuNDQ1IDEuMzg1IDUuMzcgNS42MSA5LjQ5NS05LjYtMS40Mi0xLjQwNXoiLz48L3N2Zz4=)}body.light #challenge-error-text{background-image:url(data:image/svg+xml;base64,PHN2ZyB4bWxucz0iaHR0cDovL3d3dy53My5vcmcvMjAwMC9zdmciIHdpZHRoPSIzMiIgaGVpZ2h0PSIzMiIgZmlsbD0ibm9uZSI+PHBhdGggZmlsbD0iI2ZjNTc0YSIgZD0iTTE2IDNhMTMgMTMgMCAxIDAgMTMgMTNBMTMuMDE1IDEzLjAxNSAwIDAgMCAxNiAzbTAgMjRhMTEgMTEgMCAxIDEgMTEtMTEgMTEuMDEgMTEuMDEgMCAwIDEtMTEgMTEiLz48cGF0aCBmaWxsPSIjZmM1NzRhIiBkPSJNMTcuMDM4IDE4LjYxNUgxNC44N0wxNC41NjMgOS41aDIuNzgzem0tMS4wODQgMS40MjdxLjY2IDAgMS4wNTcuMzg4LjQwNy4zODkuNDA3Ljk5NCAwIC41OTYtLjQwNy45ODQtLjM5Ny4zOS0xLjA1Ny4zODktLjY1IDAtMS4wNTYtLjM4OS0uMzk4LS4zODktLjM5OC0uOTg0IDAtLjU5Ny4zOTgtLjk4NS40MDYtLjM5NyAxLjA1Ni0uMzk3Ii8+PC9zdmc+)}a{background-color:transparent;color:#0051c3;text-decoration:none;transition:color .15s ease}a:hover{color:#ee730a;text-decoration:underline}.main-content{margin:8rem auto;max-width:60rem;width:100%}.heading-favicon{height:2rem;margin-right:.5rem;width:2rem}@media (width <= 720px){.main-content{margin-top:4rem}.heading-favicon{height:1.5rem;width:1.5rem}}.footer,.main-content{padding-left:1.5rem;padding-right:1.5rem}.main-wrapper{align-items:center;display:flex;flex:1;flex-direction:column}.font-red{color:#b20f03}.spacer{margin:2rem 0}.h1{font-size:2.5rem;font-weight:500;line-height:3.75rem}.h2{font-weight:500}.core-msg,.h2{font-size:1.5rem;line-height:2.25rem}.body-text,.core-msg{font-weight:400}.body-text{font-size:1rem;line-height:1.25rem}@media (width <= 720px){.h1{font-size:1.5rem;line-height:1.75rem}.h2{font-size:1.25rem}.core-msg,.h2{line-height:1.5rem}.core-msg{font-size:1rem}}#challenge-error-text{background-image:url(data:image/svg+xml;base64,PHN2ZyB4bWxucz0iaHR0cDovL3d3dy53My5vcmcvMjAwMC9zdmciIHdpZHRoPSIzMiIgaGVpZ2h0PSIzMiIgZmlsbD0ibm9uZSI+PHBhdGggZmlsbD0iI2ZjNTc0YSIgZD0iTTE2IDNhMTMgMTMgMCAxIDAgMTMgMTNBMTMuMDE1IDEzLjAxNSAwIDAgMCAxNiAzbTAgMjRhMTEgMTEgMCAxIDEgMTEtMTEgMTEuMDEgMTEuMDEgMCAwIDEtMTEgMTEiLz48cGF0aCBmaWxsPSIjZmM1NzRhIiBkPSJNMTcuMDM4IDE4LjYxNUgxNC44N0wxNC41NjMgOS41aDIuNzgzem0tMS4wODQgMS40MjdxLjY2IDAgMS4wNTcuMzg4LjQwNy4zODkuNDA3Ljk5NCAwIC41OTYtLjQwNy45ODQtLjM5Ny4zOS0xLjA1Ny4zODktLjY1IDAtMS4wNTYtLjM4OS0uMzk4LS4zODktLjM5OC0uOTg0IDAtLjU5Ny4zOTgtLjk4NS40MDYtLjM5NyAxLjA1Ni0uMzk3Ii8+PC9zdmc+);padding-left:34px}#challenge-error-text,#challenge-success-text{background-repeat:no-repeat;background-size:contain}#challenge-success-text{background-image:url(data:image/svg+xml;base64,PHN2ZyB4bWxucz0iaHR0cDovL3d3dy53My5vcmcvMjAwMC9zdmciIHdpZHRoPSIzMiIgaGVpZ2h0PSIzMiIgZmlsbD0ibm9uZSIgdmlld0JveD0iMCAwIDI2IDI2Ij48cGF0aCBmaWxsPSIjMzEzMTMxIiBkPSJNMTMgMGExMyAxMyAwIDEgMCAwIDI2IDEzIDEzIDAgMCAwIDAtMjZtMCAyNGExMSAxMSAwIDEgMSAwLTIyIDExIDExIDAgMCAxIDAgMjIiLz48cGF0aCBmaWxsPSIjMzEzMTMxIiBkPSJtMTAuOTU1IDE2LjA1NS0zLjk1LTQuMTI1LTEuNDQ1IDEuMzg1IDUuMzcgNS42MSA5LjQ5NS05LjYtMS40Mi0xLjQwNXoiLz48L3N2Zz4=);padding-left:42px}.text-center{text-align:center}.big-button{border:.063rem solid #0051c3;border-radius:.313rem;font-size:.875rem;line-height:1.313rem;padding:.375rem 1rem;transition-duration:.2s;transition-property:background-color,border-color,color;transition-timing-function:ease}.big-button:hover{cursor:pointer}.captcha-prompt:not(.hidden){display:flex}@media (width <= 720px){.captcha-prompt:not(.hidden){flex-wrap:wrap;justify-content:center}}.pow-button{background-color:#0051c3;color:#fff;margin:2rem 0}.pow-button:hover{background-color:#003681;border-color:#003681;color:#fff}.footer{font-size:.75rem;line-height:1.125rem;margin:0 auto;max-width:60rem;width:100%}.footer-inner{border-top:1px solid #d9d9d9;padding-bottom:1rem;padding-top:1rem}.clearfix:after{clear:both;content:\"\";display:table}.clearfix .column{float:left;padding-right:1.5rem;width:50%}.diagnostic-wrapper{margin-bottom:.5rem}.footer .ray-id{text-align:center}.footer .ray-id code{font-family:monaco,courier,monospace}.core-msg,.zone-name-title{overflow-wrap:break-word}@media (width <= 720px){.diagnostic-wrapper{display:flex;flex-wrap:wrap;justify-content:center}.clearfix:after{clear:none;content:none;display:initial;text-align:center}.column{padding-bottom:2rem}.clearfix .column{float:none;padding:0;width:auto;word-break:keep-all}.zone-name-title{margin-bottom:1rem}}.loading-spinner{height:76.391px}.lds-ring{display:inline-block;position:relative}.lds-ring,.lds-ring div{height:1.875rem;width:1.875rem}.lds-ring div{animation:lds-ring 1.2s cubic-bezier(.5,0,.5,1) infinite;border:.3rem solid transparent;border-radius:50%;border-top-color:#313131;box-sizing:border-box;display:block;position:absolute}.lds-ring div:first-child{animation-delay:-.45s}.lds-ring div:nth-child(2){animation-delay:-.3s}.lds-ring div:nth-child(3){animation-delay:-.15s}@keyframes lds-ring{0%{transform:rotate(0)}to{transform:rotate(1turn)}}@media screen and (-ms-high-contrast:active),screen and (-ms-high-contrast:none){.main-wrapper,body{display:block}}</style><meta content=\"375\" http-equiv=\"refresh\"/></head><body class=\"no-js\"><div class=\"main-wrapper\" role=\"main\"><div class=\"main-content\"><noscript><div id=\"challenge-error-title\"><div class=\"h2\"><span id=\"challenge-error-text\">Enable JavaScript and cookies to continue</span></div></div></noscript></div></div><script>(function(){window._cf_chl_opt={cvId: '3',cZone: \"www.meesho.com\",cType: 'managed',cNounce: '37424',cRay: '865da28d3fb99377',cHash: '15cc8ba8d2e4c2d',cUPMDTk: \"\\/search?q=t%20shirts&searchType=manual&searchIdentifier=text_search&__cf_chl_tk=zuXXNvOOljT5AwaroU.Zr8WwF3l4jArzWh7ePZwOPxU-1710685344-0.0.1.1-1749\",cFPWv: 'b',cTTimeMs: '1000',cMTimeMs: '375000',cTplV: 5,cTplB: 'cf',cK: \"visitor-time\",fa: \"\\/search?q=t%20shirts&searchType=manual&searchIdentifier=text_search&__cf_chl_f_tk=zuXXNvOOljT5AwaroU.Zr8WwF3l4jArzWh7ePZwOPxU-1710685344-0.0.1.1-1749\",md: \"qnlI5bZWxYgGoT1x0d5rJ8I1tE0MSYeRFT0UTblla6A-1710685344-1.1.1.1-SL4vJVrlTs8.IxC0EhGuefsyJrKZBXU_YhGHgqaoNLRT7Njm7NxS1XOA_YXp68O_0fPqmnr9t06N0o05uZ8tr8SLBRyodndnN2kKBcEvh9TCbDGExc4DjHBC7yp7gex0FYwpjF4DsfuU.Is4GNXhIe_fYguarhUi3uC5LvyPj6olhxFxajhCbTAE4faO_ZdQsnIqAxSG0N_TZga6aNAP_w4yh4pY68vkmqTSC_YvIQfgyutNJHFkzug1jftI13KolmHTlR3pThRDGXkZMKXbxJAwQ1.C1TsBV0d.477ps8lvWWMIwYiEsqaqatr79KRndpIBqPXHbwPil903dAnV9PV.LJMpCVJ4x7KyVhw4luXa_BNOmZeU.95VLC.EjwZlXwAtnvdcK5xGM3fN5kL3rpBJ33zeg8bptT1f_05oYZZz8ajVPgc5HlIlsfYmDSqs7KSfvneaF7QScR5uN5rg8yp2MbLRyLCbu_4zgtCjFv3W.7zZszMOlChCh_HKgRssgYdtwZNGEcQgzDXhkM_SPGU8g4FA1WGBpXPj87XpYYDIq4rqdU7S428ufxva9tfFFX3Z8JqrSptBiZGpHoqodNO6qOrDuc775TycbRuVcB56j6SiCTnnXdRnErNik9UhpaZkGhtmFqZjONBNW_KdWl.FUeQrDLAacT8LG6bsNFRVgv8z7a8CMrfEqf9iX2DKzSqoUCc.71ovIEAi72bd4tLGcBYLs20bQrUt7P7Ihk1q64wtaQKWsROoXhjhGwetXPozdCNNHOJPWYHzVlSgl0YblACFNRWOfGTYxjfaFiNnj8KhKxzivvWXSpjD.Cj4wJHdXCczh.dy8tZJPIlqjJCzQPLBdFl_qVbQLXdL2lv0XrFaUSeGxtC2jW2Kcl84lcyVijT8UvehqAKKIuR7WUW6nQcN68S2vKVKRrDhjpHx51z.0sG3StjJqrLBMa6XvgILnJWps6HzNQkNAUfE.6duYw0YxpDMxF2WNeAdaqc9zawV19UwkPf.blP7WLUanWEoR4tXYezB_rRhv8IiGe4eBmvwZ7QUHv9KiCMBN.f5esr_aALqX8oqasU5kVFVOrLGbYurMbcnXcWtdgtehWxtzCAbCdIYwawL6QkigtSskgrZqrMQCdgo7rM8JLxlDFwK_x3PTTXwBNadlaTafaYfPI9Unzn86sRZJP3KCZour.ByOVg_FeSt8GAXZxmOivCU.65ggFJ13rnE3HuyGZ5mWnZG8LuLjBLbo8lbndJpIBMSbZBM4J_Bg76L_aYIHSRO9wPji6XoHpm2C.7FZlEdShyZ6zY.HcEY25syfZQL5uxyVNpY1O4ePMlQZM9v6WyLsdkL_z1Hdgk1w704XfSxSozftIV94Dqpa2a5sjobC.CKDKpori_WM1BlNbPsqG38c1uD0rrU.bf20Al8KyGiBNMpL23lKRm7t7EzM.COTcZynCUAlcfivQQvBU2vKo4itM6g8kvdPUmEbqBRRtF4y31LaS.HjvNW.97LpCq9AzK_4U0UJd3DOE5qMxdTNUoju6CvyNQbDQhOnhCX1dufJK1UqjN1lCKZnNCQuSpWtsZVRvANbHTz4lG71OWbBUdPwjJSuQyBe1e8IiMVdG8tpPeIfh5xid028zU2HihxazX665q3yBMdoUqc22EPac36DqjbR9b1mH2N5nya3A\",mdrd: \"QkuWZjD1G_mI23SbqrX.TBryPk.aDxJYVlNFwshJRAA-1710685344-1.1.1.1-f02ETvMBmjR1VKJBhpk3cb95nJ589qsSaUcuCvwXrSiFOLFQeIhwZKFtHWWInBA02j2X1TmPQXdRiZ4DP1mZEAt0o44wTj_TE4vsjC6TVCraLG8IMD9A8PWBEshrMnDu6.Mhs0X2gio6uMP8yIrUdT5k5Rc6h4yhYACxXgfoE_r_vZwRewSdoQLv5OHpwPvlsBNIWmZD_rVLNymiXK_MVh5ond7boYOKx.FjXY9G74p3Oeg0YDqaO8BWiOnQ3DNJ7FK_3IT09cxLmegPjuLMmcChehgreLMnxZWkf9DoJbiE9PpA.qFy7X5gqBq8GnxR9AgdDn22I__PqFs.Swyte.RrMxc0GnveJOXAEwo2jk51Qsx.Adry3YrbHxM4dVTH4pLb_oeQ66.vWzHpTBwT61v_sr21YGdwoZl_DKt4Y2Pfpjl24TPr.uzi45V.D1CBd8vmicWr.k_C2ZvAU5msIVCqOrbziFAYOhmWFOXV12QNQ94v5OQILdOshxcG.VwbiWbtzisauZCxqomrU2MbxqB7MiAd3HRHLCrFbvZb4uGPevvXh3HUlA90w2XiAj26WnysR2mrONtHl4.dYqPoTaEkKYW299iXHByRmGIrB7DskozTF6DKfKeLNFujzFAAttzA617402pTgsif7eYQNAbHazEiXo_tKUNACaurnWpn79jrn_b5x1Am3EJHZpnAvff9XwwqKo9K8DRfkxNJ3dVQpSJjR8T_PoevZqGUMxKzRXNbknRISiOSo5JF7dbeOafb98k.IpN3lf1gEY1dQ_zJK0nX.nIcbIdB2ZmtQVkOTCu8PfWccu9YioaiBpW2rMTQVtUzaWNAtQNal0XuHgUT.rVFGxtdjq3utlQRZLhrD0fQR67ASEohzzCrvmSHd3Sv0cia2FUbpLIu5qIPcKSRE6O66c92kmnDJ5Fm_fDNy0Zoas9NbLZEsQzhB7VCjG7piN8xDV1cqK00l3A43MEGkiEU3kavNnAlAhAzDdB8xDsM1F8YUFuP3mSj9kpxoee1HMCMq7nmLNgih7DYj0E2j9guK94UkedCMGoOM3gLvZWIg3Ut7Hkc3d6lIuowOb9jj8RUNNypvM8lie2GGKX_veSgIngTkiGEFzrmPq.XPpISQufbeGn6Po2DTN.TgWRfqkroQjbiYNAb41Qg06w9y_qo4Tcdszp56xCzRsjsleB6wzVIS3CVoNEohim6Ipbpc3j5eVSEausOunUm50ERIoHXHpYW32lL6aIuryO2t4NNkax2IeKSimjina0CorbR7LcmG_VaNyEAOzpAjTA4doKOoaZvprxDRMvdiHSYwERq86_glvnDLiewnOly0oSxd0u2XsjkuQFXfW3aPjg7TcVZfVKD0shTChiOfsC4wTcNbrVRRlXivTFDHGEOlONTQUGf2R_rXwsUQvvxIviXjRTnp.LFDnTlPvzyvYeVbaWXbss2yWzNFvBjzlqg2M.VhfYpl_9qZSvFVt44MgUTSxju0F8NTdQClRAmsxtJ941yBnhLNxstSBkz4V4pA8oG9_8OvRRjNKyHt2omD0ozvCDFh4CbFWDrRl0q6kMTAVg7UZFmq8lk8CAF7nSQqj4RAjI33i1IrwIytKJQbNT1VWJi3gZEzJrGq0xRkwhuDKeNP21kxeMao_Vd8yKMqAigQ0IxwMqcgebigz0MiBIJCfU2plKHBoZnOkAl50b2DdmN43hzRUakfFswiHqPRSNED27TxsABFdTQv5I9goHg5vPKpBwK8Omc5AWLlUfnLOkBiZKSFKRAzI5PWDF4YZnujar3xkYboOmiYKh2wIeqwwGqLmTagYTzhSHoaxQ\",cRq: {ru: 'aHR0cHM6Ly93d3cubWVlc2hvLmNvbS9zZWFyY2g/cT10JTIwc2hpcnRzJnNlYXJjaFR5cGU9bWFudWFsJnNlYXJjaElkZW50aWZpZXI9dGV4dF9zZWFyY2g=',ra: 'cHl0aG9uLXJlcXVlc3RzLzIuMzEuMA==',rm: 'R0VU',d: 'NDdrMRtcAcNkzaDv66Z+mHnyKCFR6vuf7jDQFCpNEEES2wNRHbAh9hkcWQ3QqF1c3JDC8G6KbPciTCq/FtkRWbXqbDqRUU/774VlMxY0dgmBbn4dMh/3clW1LEqf1QRWg423EhoxyP16RAE4lBLsURMMBbBFY+APs0fYAMT1daTbf+avCC2wl/25B8aCXopMuYK0paMbxDiHvLWy4MlB81Jvehf+P9tTBo4S6NWDZuKq/mC2f7G/YP0kOmyPXfgISGpkZwrnRkSTJsS6qqIcLuzilEZnZ4d0jWfVOV9GkOzCt6/OHmDIJf/7VAj5LgI6IbKskbWcg7qPsejNaHdaL24r5TuU/ggcSfiMxTruLp8TWfBA5QdeCfKDHjvkPY6VmKG3G/B1Au/Ig1tl/3AnGcUc6wiUcLuiEDCfhcacub9M3WImCBcWWQ3MvCOjGbdupbVnQwq1EAj0IC+/qtP6XBmZwpPN32QF7Wo75ezFc+1Uf9RMbQ/cBIwQCHUmSq5N3HwnaQyZKExtYJddgJmibnZLjgfGAgI4FVQp1q6Dl6YIo5eBFNtNl/thSTS6/kcx7TIRkiZwioYYvEPq3IfypFXyD1SWyB71uOufT+1rvu4=',t: 'MTcxMDY4NTM0NC44NTIwMDA=',cT: Math.floor(Date.now() / 1000),m: 'ZSv/3TQw3yeG7ZblKzdXBKEPlOUgqgLSOPOpD/g0zxU=',i1: 'D5U2sU7QTWcxMZlP0Fespg==',i2: 'NKlPkXZjYXWHoPSW8GndUA==',zh: 'y5LBRIapGkKMzhZ0bNjgJ7LdoioTUlggZfkgnNU3ihc=',uh: 'YE9XOpG5TeHmhA1zfs5mxC8CrRZzq2a/+r+OU7dliYQ=',hh: '7PxFw2PDF7g7I15E41bLcZDq9st2lF+rhTuq2nNy5wY=',}};var cpo = document.createElement('script');cpo.src = '/cdn-cgi/challenge-platform/h/b/orchestrate/chl_page/v1?ray=865da28d3fb99377';window._cf_chl_opt.cOgUHash = location.hash === '' && location.href.indexOf('#') !== -1 ? '#' : location.hash;window._cf_chl_opt.cOgUQuery = location.search === '' && location.href.slice(0, location.href.length - window._cf_chl_opt.cOgUHash.length).indexOf('?') !== -1 ? '?' : location.search;if (window.history && window.history.replaceState) {var ogU = location.pathname + window._cf_chl_opt.cOgUQuery + window._cf_chl_opt.cOgUHash;history.replaceState(null, null, \"\\/search?q=t%20shirts&searchType=manual&searchIdentifier=text_search&__cf_chl_rt_tk=zuXXNvOOljT5AwaroU.Zr8WwF3l4jArzWh7ePZwOPxU-1710685344-0.0.1.1-1749\" + window._cf_chl_opt.cOgUHash);cpo.onload = function() {history.replaceState(null, null, ogU);}}document.getElementsByTagName('head')[0].appendChild(cpo);}());</script></body></html>"
      ]
     },
     "execution_count": 23,
     "metadata": {},
     "output_type": "execute_result"
    }
   ],
   "source": [
    "content"
   ]
  },
  {
   "cell_type": "code",
   "execution_count": 25,
   "metadata": {},
   "outputs": [
    {
     "data": {
      "text/plain": [
       "[]"
      ]
     },
     "execution_count": 25,
     "metadata": {},
     "output_type": "execute_result"
    }
   ],
   "source": [
    "data=content.find_all(\"div\",{\"sc-ftTHYK bAACl NewProductCardstyled__StyledDetailsCard-sc-6y2tys-1 NewProductCardstyled__StyledDesktopDetailsCard-sc-6y2tys-3 jvYVXh eSUhOk NewProductCardstyled__StyledDetailsCard-sc-6y2tys-1 NewProductCardstyled__StyledDesktopDetailsCard-sc-6y2tys-3 jvYVXh eSUhOk\"})\n",
    "data"
   ]
  },
  {
   "cell_type": "code",
   "execution_count": 8,
   "metadata": {},
   "outputs": [],
   "source": [
    "links=[]\n",
    "shoe_name=[]\n",
    "price=[]\n",
    "start_link=\"https://www.flipkart.com\""
   ]
  },
  {
   "cell_type": "code",
   "execution_count": 9,
   "metadata": {},
   "outputs": [],
   "source": [
    "for items in data:\n",
    "    link_element = items.find(\"a\")\n",
    "    if link_element is not None:\n",
    "        rest_link = link_element.get(\"href\")\n",
    "        links.append(start_link + rest_link)\n",
    "\n",
    "    name_element = items.find(\"div\", attrs={\"class\": \"_2WkVRV\"})\n",
    "    if name_element is not None:\n",
    "        name = name_element.text\n",
    "        shoe_name.append(name)\n",
    "\n",
    "    price_element = items.find(\"div\", attrs={\"class\": \"_30jeq3\"})\n",
    "    if price_element is not None:\n",
    "        pr = price_element.text\n",
    "        price.append(pr)\n"
   ]
  },
  {
   "cell_type": "code",
   "execution_count": 10,
   "metadata": {},
   "outputs": [
    {
     "name": "stdout",
     "output_type": "stream",
     "text": [
      "HOTSTYLE\n",
      "https://www.flipkart.com/hotstyle-stylish-trendy-loafers-men/p/itm13f38abc253b9?pid=SHOGNEFFKQ5MACRU&lid=LSTSHOGNEFFKQ5MACRUZMB1ZX&marketplace=FLIPKART&q=shoes+for+men&store=osp%2Fcil&srno=s_1_1&otracker=search&otracker1=search&fm=organic&iid=en_Nr3Vrg-qXiMLXgPDseVcRkLmXZFny4cZYfZppk1W45OEURmeNBHZY0d_E-tL6OP5zW2f5wXjGde7bAlbxv7Hbw%3D%3D&ppt=None&ppn=None&ssid=z1hnr5mqkg0000001710683169374&qH=9b802224ae37096b\n"
     ]
    }
   ],
   "source": [
    "print(shoe_name[0])\n",
    "print(links[0])"
   ]
  },
  {
   "cell_type": "code",
   "execution_count": 11,
   "metadata": {},
   "outputs": [],
   "source": [
    "dataframe={\"Shoe_names\":shoe_name,\"Price\":price,\"Links\":links}\n",
    "fd=pd.DataFrame(dataframe)"
   ]
  },
  {
   "cell_type": "code",
   "execution_count": 12,
   "metadata": {},
   "outputs": [],
   "source": [
    "fd.to_csv(\"shoes_data.csv\")"
   ]
  },
  {
   "cell_type": "code",
   "execution_count": null,
   "metadata": {},
   "outputs": [],
   "source": []
  },
  {
   "cell_type": "code",
   "execution_count": null,
   "metadata": {},
   "outputs": [],
   "source": []
  },
  {
   "cell_type": "code",
   "execution_count": null,
   "metadata": {},
   "outputs": [],
   "source": []
  },
  {
   "cell_type": "code",
   "execution_count": null,
   "metadata": {},
   "outputs": [],
   "source": []
  },
  {
   "cell_type": "code",
   "execution_count": null,
   "metadata": {},
   "outputs": [],
   "source": []
  }
 ],
 "metadata": {
  "kernelspec": {
   "display_name": "Python 3",
   "language": "python",
   "name": "python3"
  },
  "language_info": {
   "codemirror_mode": {
    "name": "ipython",
    "version": 3
   },
   "file_extension": ".py",
   "mimetype": "text/x-python",
   "name": "python",
   "nbconvert_exporter": "python",
   "pygments_lexer": "ipython3",
   "version": "3.11.3"
  }
 },
 "nbformat": 4,
 "nbformat_minor": 2
}
